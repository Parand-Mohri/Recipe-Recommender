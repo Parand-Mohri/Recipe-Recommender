{
 "cells": [
  {
   "cell_type": "markdown",
   "id": "fffae63b",
   "metadata": {},
   "source": [
    "## Intelligent Systems\n",
    "\n",
    "### Group Project 2023\n",
    "### Recipe Recomender\n",
    "\n",
    "#### Collaborators: \n",
    "Chiara Paglioni (i6249782), Bianca Caissotti di Chiusano (i6245461) , Parand Mohri (i6234307), Röya Behbudlu (i6222209)\n",
    "\n",
    "This Jupyter Notebook was used to pre-process the data. The orginal Dataset was taken from the website https://recipenlg.cs.put.poznan.pl/dataset and it is called `full_dataset.csv`. The following steps were performed to process the dataframe: \n",
    "\n",
    "- Drop columns of the Dataframe that are not relevant for the Intelligent System. These include the steps needed to prepare the recipe and the exact quantities of the ingredients needed for that recipe. In the end, only the `Ingredients` and `Recipe` columns were included in the processed Dataframe.\n",
    "- The igredients were saved as a single String in the original Dataframe hence, the data was processed to convert them into a list of ingreiends where every ingredient is a String.\n",
    "- Empty characters in the String of each ingredient were handled. In particular, these empty characters were removed before saving the lists of ingredients in the correct Dataframe.\n",
    "- Finally, the size of the Dataframe was reduced. This was achieved in two different ways: \n",
    "    - Remove duplicate recipes in the Dataframe.\n",
    "    - Remove recipes that need more than 6 ingredients or less than 2."
   ]
  },
  {
   "cell_type": "code",
   "execution_count": 42,
   "id": "6902058d",
   "metadata": {},
   "outputs": [],
   "source": [
    "import pandas as pd "
   ]
  },
  {
   "cell_type": "code",
   "execution_count": 43,
   "id": "fcab4183",
   "metadata": {},
   "outputs": [],
   "source": [
    "full_data = pd.read_csv(\"full_dataset.csv\")\n",
    "correct_data = pd.read_csv(\"correct_data.csv\")"
   ]
  },
  {
   "cell_type": "code",
   "execution_count": 44,
   "id": "195551ef",
   "metadata": {},
   "outputs": [
    {
     "name": "stdout",
     "output_type": "stream",
     "text": [
      "Column Values:  ['Unnamed: 0' 'Ingredients' 'Recipe']\n"
     ]
    }
   ],
   "source": [
    "print('Column Values: ', correct_data.columns.values)"
   ]
  },
  {
   "cell_type": "code",
   "execution_count": 45,
   "id": "f9a0ae25",
   "metadata": {},
   "outputs": [
    {
     "data": {
      "text/html": [
       "<div>\n",
       "<style scoped>\n",
       "    .dataframe tbody tr th:only-of-type {\n",
       "        vertical-align: middle;\n",
       "    }\n",
       "\n",
       "    .dataframe tbody tr th {\n",
       "        vertical-align: top;\n",
       "    }\n",
       "\n",
       "    .dataframe thead th {\n",
       "        text-align: right;\n",
       "    }\n",
       "</style>\n",
       "<table border=\"1\" class=\"dataframe\">\n",
       "  <thead>\n",
       "    <tr style=\"text-align: right;\">\n",
       "      <th></th>\n",
       "      <th>Unnamed: 0</th>\n",
       "      <th>Ingredients</th>\n",
       "      <th>Recipe</th>\n",
       "    </tr>\n",
       "  </thead>\n",
       "  <tbody>\n",
       "    <tr>\n",
       "      <th>0</th>\n",
       "      <td>1</td>\n",
       "      <td>['chicken', 'chicken gravy', 'cream of mushroom soup', 'shredded cheese']</td>\n",
       "      <td>Jewell Ball'S Chicken</td>\n",
       "    </tr>\n",
       "    <tr>\n",
       "      <th>1</th>\n",
       "      <td>3</td>\n",
       "      <td>['pineapple', 'condensed milk', 'lemons', 'pecans', 'graham cracker crusts']</td>\n",
       "      <td>Chicken Funny</td>\n",
       "    </tr>\n",
       "    <tr>\n",
       "      <th>2</th>\n",
       "      <td>4</td>\n",
       "      <td>['powdered sugar', 'butter', 'peanut butter', 'paraffin', 'chocolate chips']</td>\n",
       "      <td>Reeses Cups(Candy)</td>\n",
       "    </tr>\n",
       "    <tr>\n",
       "      <th>3</th>\n",
       "      <td>9</td>\n",
       "      <td>['condensed milk', 'semi-sweet chocolate chips', 'unsweetened chocolate', 'nuts', 'vanilla']</td>\n",
       "      <td>Millionaire Pie</td>\n",
       "    </tr>\n",
       "    <tr>\n",
       "      <th>4</th>\n",
       "      <td>11</td>\n",
       "      <td>['cherry pie mix', 'deluxe white cake mix', 'butter', 'ground nuts']</td>\n",
       "      <td>Buckeye Candy</td>\n",
       "    </tr>\n",
       "  </tbody>\n",
       "</table>\n",
       "</div>"
      ],
      "text/plain": [
       "   Unnamed: 0  \\\n",
       "0           1   \n",
       "1           3   \n",
       "2           4   \n",
       "3           9   \n",
       "4          11   \n",
       "\n",
       "                                                                                    Ingredients  \\\n",
       "0                     ['chicken', 'chicken gravy', 'cream of mushroom soup', 'shredded cheese']   \n",
       "1                  ['pineapple', 'condensed milk', 'lemons', 'pecans', 'graham cracker crusts']   \n",
       "2                  ['powdered sugar', 'butter', 'peanut butter', 'paraffin', 'chocolate chips']   \n",
       "3  ['condensed milk', 'semi-sweet chocolate chips', 'unsweetened chocolate', 'nuts', 'vanilla']   \n",
       "4                          ['cherry pie mix', 'deluxe white cake mix', 'butter', 'ground nuts']   \n",
       "\n",
       "                  Recipe  \n",
       "0  Jewell Ball'S Chicken  \n",
       "1          Chicken Funny  \n",
       "2   Reeses Cups(Candy)    \n",
       "3        Millionaire Pie  \n",
       "4          Buckeye Candy  "
      ]
     },
     "execution_count": 45,
     "metadata": {},
     "output_type": "execute_result"
    }
   ],
   "source": [
    "correct_data.head()"
   ]
  },
  {
   "cell_type": "markdown",
   "id": "747f969e",
   "metadata": {},
   "source": [
    "### Drop Irrelevant Columns from the Dataframe"
   ]
  },
  {
   "cell_type": "code",
   "execution_count": null,
   "id": "17850deb",
   "metadata": {},
   "outputs": [],
   "source": [
    "clean_data = pd.DataFrame()\n",
    "clean_data[\"Ingredients\"] = full_data['NER']\n",
    "clean_data[\"Recipe\"] = full_data['title']\n",
    "clean_data.head()"
   ]
  },
  {
   "cell_type": "markdown",
   "id": "c97414cd",
   "metadata": {},
   "source": [
    "### Convert the Ingredients Column from String to List in the Dataframe"
   ]
  },
  {
   "cell_type": "code",
   "execution_count": 30,
   "id": "598f24db",
   "metadata": {},
   "outputs": [],
   "source": [
    "# test_data = full_data.copy()\n",
    "# test_data[\"Ingredients\"] = test_data[\"Ingredients\"].str.replace('[','')\n",
    "# test_data[\"Ingredients\"] = test_data[\"Ingredients\"].str.replace(']','')\n",
    "# test_data[\"Ingredients\"] = test_data[\"Ingredients\"].str.replace('\"','')\n",
    "# test_data[\"Ingredients\"] = test_data[\"Ingredients\"].str.split(',')\n",
    "# test_data[\"Ingredients\"]"
   ]
  },
  {
   "cell_type": "markdown",
   "id": "e132fabc",
   "metadata": {},
   "source": [
    "### Take Empty Characters from the Dataframe"
   ]
  },
  {
   "cell_type": "code",
   "execution_count": 34,
   "id": "83d05668",
   "metadata": {},
   "outputs": [],
   "source": [
    "def get_space_out(ingred_list):\n",
    "    result = []\n",
    "    for i in range(0, len(ingred_list)):\n",
    "        result.append(ingred_list[i].strip())\n",
    "    return result"
   ]
  },
  {
   "cell_type": "code",
   "execution_count": 32,
   "id": "0f4b8fc4",
   "metadata": {},
   "outputs": [],
   "source": [
    "# for i in range(0, len(test)):\n",
    "#    test_data[\"Ingredients\"][i] = get_space_out(test[i])"
   ]
  },
  {
   "cell_type": "markdown",
   "id": "701e73b9",
   "metadata": {},
   "source": [
    "### Remove Size of the Dataframe"
   ]
  },
  {
   "cell_type": "code",
   "execution_count": null,
   "id": "07884a62",
   "metadata": {},
   "outputs": [],
   "source": []
  },
  {
   "cell_type": "markdown",
   "id": "146151fa",
   "metadata": {},
   "source": [
    "### Save Data into the Correct Dataframe"
   ]
  },
  {
   "cell_type": "code",
   "execution_count": 33,
   "id": "b1c5e9fe",
   "metadata": {},
   "outputs": [],
   "source": [
    "# test_data.to_csv('correct_data.csv')"
   ]
  },
  {
   "cell_type": "code",
   "execution_count": null,
   "id": "3062a307",
   "metadata": {},
   "outputs": [],
   "source": [
    "# TO DO: \n",
    "# 1. Add terminal and connect it to code (connect jupiter with terminal)\n",
    "# 2. Process data (delete large recipe, delete duplicate recipes, )\n",
    "# 3. Make a video"
   ]
  }
 ],
 "metadata": {
  "kernelspec": {
   "display_name": "Python 3",
   "language": "python",
   "name": "python3"
  },
  "language_info": {
   "codemirror_mode": {
    "name": "ipython",
    "version": 3
   },
   "file_extension": ".py",
   "mimetype": "text/x-python",
   "name": "python",
   "nbconvert_exporter": "python",
   "pygments_lexer": "ipython3",
   "version": "3.8.8"
  }
 },
 "nbformat": 4,
 "nbformat_minor": 5
}
