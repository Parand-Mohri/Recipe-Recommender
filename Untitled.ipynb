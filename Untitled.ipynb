{
 "cells": [
  {
   "cell_type": "code",
   "execution_count": 1,
   "id": "af41509f",
   "metadata": {},
   "outputs": [],
   "source": [
    "import pandas as pd "
   ]
  },
  {
   "cell_type": "code",
   "execution_count": 2,
   "id": "fcab4183",
   "metadata": {},
   "outputs": [],
   "source": [
    "full = pd.read_csv(\"full_dataset.csv\")"
   ]
  },
  {
   "cell_type": "code",
   "execution_count": 3,
   "id": "195551ef",
   "metadata": {},
   "outputs": [
    {
     "data": {
      "text/plain": [
       "array(['Unnamed: 0', 'title', 'ingredients', 'directions', 'link',\n",
       "       'source', 'NER'], dtype=object)"
      ]
     },
     "execution_count": 3,
     "metadata": {},
     "output_type": "execute_result"
    }
   ],
   "source": [
    "full.columns.values"
   ]
  },
  {
   "cell_type": "code",
   "execution_count": 4,
   "id": "f9a0ae25",
   "metadata": {},
   "outputs": [
    {
     "data": {
      "text/html": [
       "<div>\n",
       "<style scoped>\n",
       "    .dataframe tbody tr th:only-of-type {\n",
       "        vertical-align: middle;\n",
       "    }\n",
       "\n",
       "    .dataframe tbody tr th {\n",
       "        vertical-align: top;\n",
       "    }\n",
       "\n",
       "    .dataframe thead th {\n",
       "        text-align: right;\n",
       "    }\n",
       "</style>\n",
       "<table border=\"1\" class=\"dataframe\">\n",
       "  <thead>\n",
       "    <tr style=\"text-align: right;\">\n",
       "      <th></th>\n",
       "      <th>Unnamed: 0</th>\n",
       "      <th>title</th>\n",
       "      <th>ingredients</th>\n",
       "      <th>directions</th>\n",
       "      <th>link</th>\n",
       "      <th>source</th>\n",
       "      <th>NER</th>\n",
       "    </tr>\n",
       "  </thead>\n",
       "  <tbody>\n",
       "    <tr>\n",
       "      <th>0</th>\n",
       "      <td>0</td>\n",
       "      <td>No-Bake Nut Cookies</td>\n",
       "      <td>[\"1 c. firmly packed brown sugar\", \"1/2 c. eva...</td>\n",
       "      <td>[\"In a heavy 2-quart saucepan, mix brown sugar...</td>\n",
       "      <td>www.cookbooks.com/Recipe-Details.aspx?id=44874</td>\n",
       "      <td>Gathered</td>\n",
       "      <td>[\"brown sugar\", \"milk\", \"vanilla\", \"nuts\", \"bu...</td>\n",
       "    </tr>\n",
       "    <tr>\n",
       "      <th>1</th>\n",
       "      <td>1</td>\n",
       "      <td>Jewell Ball'S Chicken</td>\n",
       "      <td>[\"1 small jar chipped beef, cut up\", \"4 boned ...</td>\n",
       "      <td>[\"Place chipped beef on bottom of baking dish....</td>\n",
       "      <td>www.cookbooks.com/Recipe-Details.aspx?id=699419</td>\n",
       "      <td>Gathered</td>\n",
       "      <td>[\"beef\", \"chicken breasts\", \"cream of mushroom...</td>\n",
       "    </tr>\n",
       "    <tr>\n",
       "      <th>2</th>\n",
       "      <td>2</td>\n",
       "      <td>Creamy Corn</td>\n",
       "      <td>[\"2 (16 oz.) pkg. frozen corn\", \"1 (8 oz.) pkg...</td>\n",
       "      <td>[\"In a slow cooker, combine all ingredients. C...</td>\n",
       "      <td>www.cookbooks.com/Recipe-Details.aspx?id=10570</td>\n",
       "      <td>Gathered</td>\n",
       "      <td>[\"frozen corn\", \"cream cheese\", \"butter\", \"gar...</td>\n",
       "    </tr>\n",
       "    <tr>\n",
       "      <th>3</th>\n",
       "      <td>3</td>\n",
       "      <td>Chicken Funny</td>\n",
       "      <td>[\"1 large whole chicken\", \"2 (10 1/2 oz.) cans...</td>\n",
       "      <td>[\"Boil and debone chicken.\", \"Put bite size pi...</td>\n",
       "      <td>www.cookbooks.com/Recipe-Details.aspx?id=897570</td>\n",
       "      <td>Gathered</td>\n",
       "      <td>[\"chicken\", \"chicken gravy\", \"cream of mushroo...</td>\n",
       "    </tr>\n",
       "    <tr>\n",
       "      <th>4</th>\n",
       "      <td>4</td>\n",
       "      <td>Reeses Cups(Candy)</td>\n",
       "      <td>[\"1 c. peanut butter\", \"3/4 c. graham cracker ...</td>\n",
       "      <td>[\"Combine first four ingredients and press in ...</td>\n",
       "      <td>www.cookbooks.com/Recipe-Details.aspx?id=659239</td>\n",
       "      <td>Gathered</td>\n",
       "      <td>[\"peanut butter\", \"graham cracker crumbs\", \"bu...</td>\n",
       "    </tr>\n",
       "  </tbody>\n",
       "</table>\n",
       "</div>"
      ],
      "text/plain": [
       "   Unnamed: 0                  title  \\\n",
       "0           0    No-Bake Nut Cookies   \n",
       "1           1  Jewell Ball'S Chicken   \n",
       "2           2            Creamy Corn   \n",
       "3           3          Chicken Funny   \n",
       "4           4   Reeses Cups(Candy)     \n",
       "\n",
       "                                         ingredients  \\\n",
       "0  [\"1 c. firmly packed brown sugar\", \"1/2 c. eva...   \n",
       "1  [\"1 small jar chipped beef, cut up\", \"4 boned ...   \n",
       "2  [\"2 (16 oz.) pkg. frozen corn\", \"1 (8 oz.) pkg...   \n",
       "3  [\"1 large whole chicken\", \"2 (10 1/2 oz.) cans...   \n",
       "4  [\"1 c. peanut butter\", \"3/4 c. graham cracker ...   \n",
       "\n",
       "                                          directions  \\\n",
       "0  [\"In a heavy 2-quart saucepan, mix brown sugar...   \n",
       "1  [\"Place chipped beef on bottom of baking dish....   \n",
       "2  [\"In a slow cooker, combine all ingredients. C...   \n",
       "3  [\"Boil and debone chicken.\", \"Put bite size pi...   \n",
       "4  [\"Combine first four ingredients and press in ...   \n",
       "\n",
       "                                              link    source  \\\n",
       "0   www.cookbooks.com/Recipe-Details.aspx?id=44874  Gathered   \n",
       "1  www.cookbooks.com/Recipe-Details.aspx?id=699419  Gathered   \n",
       "2   www.cookbooks.com/Recipe-Details.aspx?id=10570  Gathered   \n",
       "3  www.cookbooks.com/Recipe-Details.aspx?id=897570  Gathered   \n",
       "4  www.cookbooks.com/Recipe-Details.aspx?id=659239  Gathered   \n",
       "\n",
       "                                                 NER  \n",
       "0  [\"brown sugar\", \"milk\", \"vanilla\", \"nuts\", \"bu...  \n",
       "1  [\"beef\", \"chicken breasts\", \"cream of mushroom...  \n",
       "2  [\"frozen corn\", \"cream cheese\", \"butter\", \"gar...  \n",
       "3  [\"chicken\", \"chicken gravy\", \"cream of mushroo...  \n",
       "4  [\"peanut butter\", \"graham cracker crumbs\", \"bu...  "
      ]
     },
     "execution_count": 4,
     "metadata": {},
     "output_type": "execute_result"
    }
   ],
   "source": [
    "full.head()"
   ]
  },
  {
   "cell_type": "code",
   "execution_count": 5,
   "id": "0abebaca",
   "metadata": {},
   "outputs": [
    {
     "data": {
      "text/plain": [
       "'r'"
      ]
     },
     "execution_count": 5,
     "metadata": {},
     "output_type": "execute_result"
    }
   ],
   "source": [
    "full[\"NER\"][0][3]"
   ]
  },
  {
   "cell_type": "code",
   "execution_count": 13,
   "id": "56b7dbf8",
   "metadata": {},
   "outputs": [
    {
     "data": {
      "text/html": [
       "<div>\n",
       "<style scoped>\n",
       "    .dataframe tbody tr th:only-of-type {\n",
       "        vertical-align: middle;\n",
       "    }\n",
       "\n",
       "    .dataframe tbody tr th {\n",
       "        vertical-align: top;\n",
       "    }\n",
       "\n",
       "    .dataframe thead th {\n",
       "        text-align: right;\n",
       "    }\n",
       "</style>\n",
       "<table border=\"1\" class=\"dataframe\">\n",
       "  <thead>\n",
       "    <tr style=\"text-align: right;\">\n",
       "      <th></th>\n",
       "      <th>Ingredients</th>\n",
       "      <th>Recipe</th>\n",
       "    </tr>\n",
       "  </thead>\n",
       "  <tbody>\n",
       "    <tr>\n",
       "      <th>0</th>\n",
       "      <td>[\"brown sugar\", \"milk\", \"vanilla\", \"nuts\", \"butter\", \"bite size shredded rice biscuits\"]</td>\n",
       "      <td>No-Bake Nut Cookies</td>\n",
       "    </tr>\n",
       "    <tr>\n",
       "      <th>1</th>\n",
       "      <td>[\"beef\", \"chicken breasts\", \"cream of mushroom soup\", \"sour cream\"]</td>\n",
       "      <td>Jewell Ball'S Chicken</td>\n",
       "    </tr>\n",
       "    <tr>\n",
       "      <th>2</th>\n",
       "      <td>[\"frozen corn\", \"cream cheese\", \"butter\", \"garlic powder\", \"salt\", \"pepper\"]</td>\n",
       "      <td>Creamy Corn</td>\n",
       "    </tr>\n",
       "    <tr>\n",
       "      <th>3</th>\n",
       "      <td>[\"chicken\", \"chicken gravy\", \"cream of mushroom soup\", \"shredded cheese\"]</td>\n",
       "      <td>Chicken Funny</td>\n",
       "    </tr>\n",
       "    <tr>\n",
       "      <th>4</th>\n",
       "      <td>[\"peanut butter\", \"graham cracker crumbs\", \"butter\", \"powdered sugar\", \"chocolate chips\"]</td>\n",
       "      <td>Reeses Cups(Candy)</td>\n",
       "    </tr>\n",
       "  </tbody>\n",
       "</table>\n",
       "</div>"
      ],
      "text/plain": [
       "                                                                                 Ingredients  \\\n",
       "0   [\"brown sugar\", \"milk\", \"vanilla\", \"nuts\", \"butter\", \"bite size shredded rice biscuits\"]   \n",
       "1                        [\"beef\", \"chicken breasts\", \"cream of mushroom soup\", \"sour cream\"]   \n",
       "2               [\"frozen corn\", \"cream cheese\", \"butter\", \"garlic powder\", \"salt\", \"pepper\"]   \n",
       "3                  [\"chicken\", \"chicken gravy\", \"cream of mushroom soup\", \"shredded cheese\"]   \n",
       "4  [\"peanut butter\", \"graham cracker crumbs\", \"butter\", \"powdered sugar\", \"chocolate chips\"]   \n",
       "\n",
       "                  Recipe  \n",
       "0    No-Bake Nut Cookies  \n",
       "1  Jewell Ball'S Chicken  \n",
       "2            Creamy Corn  \n",
       "3          Chicken Funny  \n",
       "4   Reeses Cups(Candy)    "
      ]
     },
     "execution_count": 13,
     "metadata": {},
     "output_type": "execute_result"
    }
   ],
   "source": [
    "pd.set_option('display.max_colwidth', None)\n",
    "data = pd.DataFrame()\n",
    "data[\"Ingredients\"] = full['NER']\n",
    "data[\"Recipe\"] = full['title']\n",
    "#data = data.drop(\"Receipe\", axis=1)\n",
    "#data = data.drop(\"title\", axis=1)\n",
    "data.head()"
   ]
  },
  {
   "cell_type": "code",
   "execution_count": 14,
   "id": "2a58f69c",
   "metadata": {},
   "outputs": [
    {
     "data": {
      "text/plain": [
       "'[\"brown sugar\", \"milk\", \"vanilla\", \"nuts\", \"butter\", \"bite size shredded rice biscuits\"'"
      ]
     },
     "execution_count": 14,
     "metadata": {},
     "output_type": "execute_result"
    }
   ],
   "source": [
    "# x = data[\"Ingredients\"][0].split(\",\")\n",
    "# x.replace('[', \"\")\n",
    "data[\"Ingredients\"][0].replace('[','')\n",
    "data[\"Ingredients\"][0].replace(']','')"
   ]
  },
  {
   "cell_type": "code",
   "execution_count": 15,
   "id": "7ea432f3",
   "metadata": {},
   "outputs": [],
   "source": [
    "def find_that_recipe(ingredients):\n",
    "    x = data\n",
    "    for ing in ingredients:\n",
    "        x = x[x['Ingredients'].str.contains(ing)]\n",
    "    return x['Recipe'].to_frame().reset_index().drop('index',axis=1)"
   ]
  },
  {
   "cell_type": "code",
   "execution_count": 23,
   "id": "92fd2bd2",
   "metadata": {},
   "outputs": [
    {
     "data": {
      "text/html": [
       "<div>\n",
       "<style scoped>\n",
       "    .dataframe tbody tr th:only-of-type {\n",
       "        vertical-align: middle;\n",
       "    }\n",
       "\n",
       "    .dataframe tbody tr th {\n",
       "        vertical-align: top;\n",
       "    }\n",
       "\n",
       "    .dataframe thead th {\n",
       "        text-align: right;\n",
       "    }\n",
       "</style>\n",
       "<table border=\"1\" class=\"dataframe\">\n",
       "  <thead>\n",
       "    <tr style=\"text-align: right;\">\n",
       "      <th></th>\n",
       "      <th>Recipe</th>\n",
       "    </tr>\n",
       "  </thead>\n",
       "  <tbody>\n",
       "    <tr>\n",
       "      <th>0</th>\n",
       "      <td>Swiss 'N Chicken Casserole</td>\n",
       "    </tr>\n",
       "    <tr>\n",
       "      <th>1</th>\n",
       "      <td>Ham Casserole</td>\n",
       "    </tr>\n",
       "    <tr>\n",
       "      <th>2</th>\n",
       "      <td>Chicken Casserole-12</td>\n",
       "    </tr>\n",
       "    <tr>\n",
       "      <th>3</th>\n",
       "      <td>Tuna Casserole</td>\n",
       "    </tr>\n",
       "    <tr>\n",
       "      <th>4</th>\n",
       "      <td>Appetizer Pie</td>\n",
       "    </tr>\n",
       "    <tr>\n",
       "      <th>...</th>\n",
       "      <td>...</td>\n",
       "    </tr>\n",
       "    <tr>\n",
       "      <th>1599</th>\n",
       "      <td>Cheesy and Peppery Walnut Bread</td>\n",
       "    </tr>\n",
       "    <tr>\n",
       "      <th>1600</th>\n",
       "      <td>Laksa Gravy</td>\n",
       "    </tr>\n",
       "    <tr>\n",
       "      <th>1601</th>\n",
       "      <td>Creamy Chicken Florentine</td>\n",
       "    </tr>\n",
       "    <tr>\n",
       "      <th>1602</th>\n",
       "      <td>Middle Eastern Meat Loaf</td>\n",
       "    </tr>\n",
       "    <tr>\n",
       "      <th>1603</th>\n",
       "      <td>Peppermint Candy Cookies Recipe</td>\n",
       "    </tr>\n",
       "  </tbody>\n",
       "</table>\n",
       "<p>1604 rows × 1 columns</p>\n",
       "</div>"
      ],
      "text/plain": [
       "                               Recipe\n",
       "0          Swiss 'N Chicken Casserole\n",
       "1                       Ham Casserole\n",
       "2                Chicken Casserole-12\n",
       "3                      Tuna Casserole\n",
       "4                       Appetizer Pie\n",
       "...                               ...\n",
       "1599  Cheesy and Peppery Walnut Bread\n",
       "1600                      Laksa Gravy\n",
       "1601        Creamy Chicken Florentine\n",
       "1602         Middle Eastern Meat Loaf\n",
       "1603  Peppermint Candy Cookies Recipe\n",
       "\n",
       "[1604 rows x 1 columns]"
      ]
     },
     "execution_count": 23,
     "metadata": {},
     "output_type": "execute_result"
    }
   ],
   "source": [
    "# x = data[data['Ingredients'].str.contains('milk') ]\n",
    "# y = x[x['Ingredients'].str.contains('pepper')]\n",
    "# y\n",
    "# x = x[x['Ingredients'].str.contains('pepper')]\n",
    "l = ['milk', 'pepper', 'nuts']\n",
    "y = find_that_recipe(l)\n",
    "# y = y.to[_frame()\n",
    "#full[full['title']=='']\n",
    "y"
   ]
  },
  {
   "cell_type": "code",
   "execution_count": 68,
   "id": "598f24db",
   "metadata": {},
   "outputs": [
    {
     "name": "stderr",
     "output_type": "stream",
     "text": [
      "<ipython-input-68-298ac55c7961>:2: FutureWarning: The default value of regex will change from True to False in a future version. In addition, single character regular expressions will*not* be treated as literal strings when regex=True.\n",
      "  test_data[\"Ingredients\"] = test_data[\"Ingredients\"].str.replace('[','')\n",
      "<ipython-input-68-298ac55c7961>:3: FutureWarning: The default value of regex will change from True to False in a future version. In addition, single character regular expressions will*not* be treated as literal strings when regex=True.\n",
      "  test_data[\"Ingredients\"] = test_data[\"Ingredients\"].str.replace(']','')\n"
     ]
    },
    {
     "data": {
      "text/plain": [
       "0                                                                                                                                                                                                                                                                                                [brown sugar,  milk,  vanilla,  nuts,  butter,  bite size shredded rice biscuits]\n",
       "1                                                                                                                                                                                                                                                                                                                   [beef,  chicken breasts,  cream of mushroom soup,  sour cream]\n",
       "2                                                                                                                                                                                                                                                                                                            [frozen corn,  cream cheese,  butter,  garlic powder,  salt,  pepper]\n",
       "3                                                                                                                                                                                                                                                                                                             [chicken,  chicken gravy,  cream of mushroom soup,  shredded cheese]\n",
       "4                                                                                                                                                                                                                                                                                              [peanut butter,  graham cracker crumbs,  butter,  powdered sugar,  chocolate chips]\n",
       "                                                                                                                                                                                            ...                                                                                                                                                                                   \n",
       "2231137                                                                                                                                                                                                                                                                                                [chocolate hazelnut spread,  tortillas,  butter,  marshmallows,  hazelnuts]\n",
       "2231138                                                                                                                                                                                                                                                                                                                   [eggs,  paprika,  salt,  choice,  miracle whip,  relish]\n",
       "2231139                                                                                                                                                                                                                                                                                                              [radish,  Sesame oil,  White sesame seeds,  Salt,  Soy sauce]\n",
       "2231140    [apple cider,  sugar,  kosher salt,  bay leaves,  arbol,  berries,  caraway seeds,  mustard seeds,  coriander seeds,  pork chops,  Freshly ground black pepper,  neutral oil,  unsalted butter,  shallots,  thyme,  brandy,  heavy cream,  pork,  grain mustard,  horseradish,  apple cider,  cinnamon,  apples,  egg,  water,  rice flour,  all-purpose,  neutral oil]\n",
       "2231141                                                                                                                                                                                                  [ground veal,  sausage,  bread crumbs,  milk,  garlic,  flat-leaf,  egg whites,  tomato paste,  freshly grated Pecorino Romano cheese,  Salt,  tomato sauce,  red pepper]\n",
       "Name: Ingredients, Length: 2231142, dtype: object"
      ]
     },
     "execution_count": 68,
     "metadata": {},
     "output_type": "execute_result"
    }
   ],
   "source": [
    "test_data = data.copy()\n",
    "test_data[\"Ingredients\"] = test_data[\"Ingredients\"].str.replace('[','')\n",
    "test_data[\"Ingredients\"] = test_data[\"Ingredients\"].str.replace(']','')\n",
    "test_data[\"Ingredients\"] = test_data[\"Ingredients\"].str.replace('\"','')\n",
    "test_data[\"Ingredients\"] = test_data[\"Ingredients\"].str.split(',')\n",
    "# test_data[\"Ingredients\"]"
   ]
  },
  {
   "cell_type": "code",
   "execution_count": 71,
   "id": "ba17d282",
   "metadata": {},
   "outputs": [
    {
     "name": "stdout",
     "output_type": "stream",
     "text": [
      "2231142\n"
     ]
    }
   ],
   "source": [
    "test = test_data[\"Ingredients\"].tolist()\n",
    "#type(test_data[\"Ingredients\"].tolist())\n",
    "#print(len(test))"
   ]
  },
  {
   "cell_type": "code",
   "execution_count": null,
   "id": "0f4b8fc4",
   "metadata": {},
   "outputs": [],
   "source": [
    "for i in range(0, len(test)):\n",
    "    test_data[\"Ingredients\"][i] = get_space_out(test[i])"
   ]
  },
  {
   "cell_type": "code",
   "execution_count": null,
   "id": "b1c5e9fe",
   "metadata": {},
   "outputs": [],
   "source": [
    "test_data.to_csv('correct_data.csv')"
   ]
  },
  {
   "cell_type": "code",
   "execution_count": null,
   "id": "83d05668",
   "metadata": {},
   "outputs": [],
   "source": [
    "def get_space_out(ingred_list):\n",
    "    result = []\n",
    "    for i in range(0, len(ingred_list)):\n",
    "        result.append(ingred_list[i].strip())\n",
    "    return result"
   ]
  },
  {
   "cell_type": "code",
   "execution_count": null,
   "id": "d6a4754e",
   "metadata": {},
   "outputs": [],
   "source": [
    "def find_recipe(ingredients): \n",
    "    recipes_list = []\n",
    "    for i in range(0, len(test)):\n",
    "        temp = set(test[i])\n",
    "        if temp == set(get_space_out(ingredients)):\n",
    "            recipes_list.append(test_data['Recipe'][i])\n",
    "    return recipes_list"
   ]
  },
  {
   "cell_type": "code",
   "execution_count": null,
   "id": "a5c1a6b7",
   "metadata": {},
   "outputs": [],
   "source": [
    "li = ['milk', 'pepper', 'nuts']\n",
    "li2 = ['brown sugar', ' milk', ' vanilla', ' nuts', ' butter', ' bite size shredded rice biscuits']\n",
    "y = find_recipe(li2)\n",
    "y"
   ]
  },
  {
   "cell_type": "code",
   "execution_count": null,
   "id": "108fd26f",
   "metadata": {},
   "outputs": [],
   "source": [
    "print(get_space_out(li2))"
   ]
  },
  {
   "cell_type": "code",
   "execution_count": null,
   "id": "3062a307",
   "metadata": {},
   "outputs": [],
   "source": [
    "# TO DO: \n",
    "# 1. Add terminal and connect it to code (connect jupiter with terminal)\n",
    "# 2. Process data (delete large recipe, delete duplicate recipes, )\n",
    "# 3. Make a video"
   ]
  }
 ],
 "metadata": {
  "kernelspec": {
   "display_name": "Python 3",
   "language": "python",
   "name": "python3"
  }
 },
 "nbformat": 4,
 "nbformat_minor": 5
}
